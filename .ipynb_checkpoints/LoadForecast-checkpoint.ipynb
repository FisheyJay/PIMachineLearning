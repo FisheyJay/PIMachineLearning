{
 "cells": [
  {
   "cell_type": "markdown",
   "metadata": {},
   "source": [
    "# Pepco Substation Load Forecasting\n",
    "This notebook goes throug the process used to fit the model and create"
   ]
  },
  {
   "cell_type": "code",
   "execution_count": 1,
   "metadata": {
    "collapsed": false
   },
   "outputs": [
    {
     "name": "stdout",
     "output_type": "stream",
     "text": [
      "Welcome to PIthon!!\n"
     ]
    }
   ],
   "source": [
    "from Code import OSI as osi\n",
    "from Code import featureengineering as fe\n",
    "\n",
    "from Code import pipeline as pipe\n",
    "\n",
    "from sklearn.externals import joblib\n",
    "import pandas as pd\n",
    "import numpy as np\n",
    "import time\n",
    "from datetime import datetime"
   ]
  },
  {
   "cell_type": "code",
   "execution_count": 2,
   "metadata": {
    "collapsed": false
   },
   "outputs": [
    {
     "data": {
      "text/plain": [
       "Pipeline(steps=[('features', FeatureUnion(n_jobs=1,\n",
       "       transformer_list=[('Hour of Day', HourOfDayTransformer()), ('Day of Week', DayofWeekTransformer()), ('Month_of_year', MonthTransformer()), ('Day_of_month', DayofMonthTransformer()), ('Year', YearTransformer()), ('hour dummies', HourDummies()), ('mont...imators=300, n_jobs=1, oob_score=False, random_state=None,\n",
       "           verbose=0, warm_start=False))])"
      ]
     },
     "execution_count": 2,
     "metadata": {},
     "output_type": "execute_result"
    }
   ],
   "source": [
    "# Show the pipeline used to create the model\n",
    "pipe.pipeline"
   ]
  },
  {
   "cell_type": "code",
   "execution_count": 6,
   "metadata": {
    "collapsed": false
   },
   "outputs": [],
   "source": [
    "def build_and_save_models(load_tags, \n",
    "                          weather_tags = ['NWS_KDCA_DewPoint_F','NWS_KDCA_Temperature_F','NWS_KDCA_WindSpeed_mph'],\n",
    "                         start ='Jan 1 2010',\n",
    "                          end = '*',\n",
    "                          freq = '1h',\n",
    "                         summarytype = osi.AFSummaryTypes.Average):\n",
    "    # Set starttime\n",
    "    start_time = time.time()\n",
    "    print(datetime.now().strftime(\"%Y-%m-%d %H:%M:%S\"))\n",
    "    # Create and all tags list\n",
    "    all_tags = load_tags + weather_tags\n",
    "    # Pull all weather and historic tags\n",
    "    print(\"Pulling PI data for the following points:\")\n",
    "    print(*all_tags, sep='\\n')\n",
    "    df = osi.Pull_Multi_PIData(all_tags, start, end, freq, complete_cases=False, summarytype=summarytype)\n",
    "    print(\"Done pulling at \" + str(datetime.now().strftime(\"%Y-%m-%d %H:%M:%S\")) + \" Taking \" + str(time.time() - start_time))\n",
    "    # Loop through each load tag\n",
    "    for load in load_tags:\n",
    "        # Make mini dataframe with only the one load tag\n",
    "        print(\"Filtering data for only: \"+str(load))\n",
    "        df_mini = df[[load]+weather_tags]\n",
    "        # Make it only complete cases\n",
    "        df_mini = df_mini.dropna(axis=0, how='any')\n",
    "        \n",
    "        # Create X and y variables\n",
    "        X = df_mini.drop([load], axis = 1)\n",
    "        y = pd.DataFrame(df_mini[load])\n",
    "        y_log = np.log(y)\n",
    "        \n",
    "        print(\"Fitting Model for: \" + str(load) + \" at time: \" + str(datetime.now().strftime(\"%Y-%m-%d %H:%M:%S\")))\n",
    "        # Fit the model\n",
    "        #pipe.pipeline.fit(X, y_log)\n",
    "        # Change to this because of error?\n",
    "        pipe.pipeline.fit(X, y_log.values.ravel())\n",
    "        \n",
    "        # Save model as file\n",
    "        filename = str(load)+'.sav'\n",
    "        print(\"Saving fitted model for: \" + str(load) + \" with filename: \" + str(filename))\n",
    "        print(\"So far this script has been running for: \" + str(time.time() - start_time))\n",
    "        joblib.dump(pipe.pipeline, filename)"
   ]
  },
  {
   "cell_type": "code",
   "execution_count": 5,
   "metadata": {
    "collapsed": false
   },
   "outputs": [
    {
     "name": "stdout",
     "output_type": "stream",
     "text": [
      "Pulling PI data for all of the points\n",
      "Filtering data for only: PEPCO.BEVFRM_MVA.AV\n",
      "Fitting Model for: PEPCO.BEVFRM_MVA.AV\n",
      "Saving fitted model for: PEPCO.BEVFRM_MVA.AV with filename: PEPCO.BEVFRM_MVA.AV.sav\n",
      "Filtering data for only: PEPCO.BLADBG_MVA.AV\n",
      "Fitting Model for: PEPCO.BLADBG_MVA.AV\n",
      "Saving fitted model for: PEPCO.BLADBG_MVA.AV with filename: PEPCO.BLADBG_MVA.AV.sav\n",
      "Filtering data for only: PEPCO.BML-13_MVA.AV\n",
      "Fitting Model for: PEPCO.BML-13_MVA.AV\n",
      "Saving fitted model for: PEPCO.BML-13_MVA.AV with filename: PEPCO.BML-13_MVA.AV.sav\n",
      "Filtering data for only: PEPCO.BELTVL_MVA.AV\n",
      "Fitting Model for: PEPCO.BELTVL_MVA.AV\n",
      "Saving fitted model for: PEPCO.BELTVL_MVA.AV with filename: PEPCO.BELTVL_MVA.AV.sav\n"
     ]
    }
   ],
   "source": [
    "build_and_save_models(load_tags=['PEPCO.BEVFRM_MVA.AV','PEPCO.BLADBG_MVA.AV','PEPCO.BML-13_MVA.AV','PEPCO.BELTVL_MVA.AV'])"
   ]
  },
  {
   "cell_type": "code",
   "execution_count": 26,
   "metadata": {
    "collapsed": false
   },
   "outputs": [],
   "source": [
    "from sklearn.externals import joblib\n",
    "import pandas as pd\n",
    "import numpy as np\n",
    "\n",
    "def predict_and_store(points):\n",
    "    \n",
    "    X_future = osi.Pull_Multi_PIData(\n",
    "        pitags = ['NWS_KDCA_DewPoint_F.Forecast','NWS_KDCA_Temperature_F.Forecast','NWS_KDCA_WindSpeed_mph.Forecast'], \n",
    "        start= 't',\n",
    "        end = 't+7d',\n",
    "        freq = '1h',\n",
    "        complete_cases=True,\n",
    "        summarytype=osi.AFSummaryTypes.Average)\n",
    "    \n",
    "    X_future = osi.rename_forecast_cols(X_future)\n",
    "    \n",
    "    for model in points:\n",
    "        filename = str(model)+'.sav'\n",
    "        loaded_model = joblib.load(filename)\n",
    "\n",
    "        fut_predictions = pd.DataFrame(np.exp(loaded_model.predict(X_future)), index=X_future.index, columns=['Future_Predictions'])\n",
    "        \n",
    "        storepoint = str(model)[:-2]+'Forecast'\n",
    "        print(\"Storing forecast for: \" + str(storepoint))\n",
    "        osi.Store_Preds(fut_predictions, valuecol='Future_Predictions',pointname=storepoint)"
   ]
  },
  {
   "cell_type": "code",
   "execution_count": 25,
   "metadata": {
    "collapsed": false
   },
   "outputs": [
    {
     "name": "stdout",
     "output_type": "stream",
     "text": [
      "Sotring forecast for: PEPCO.SHDYGR_MVA.Forecast\n",
      "Sotring forecast for: PEPCO.POTMAC_MVA.Forecast\n"
     ]
    }
   ],
   "source": [
    "predict_and_store(['PEPCO.BEVFRM_MVA.AV','PEPCO.BLADBG_MVA.AV','PEPCO.BML-13_MVA.AV','PEPCO.BELTVL_MVA.AV'])"
   ]
  }
 ],
 "metadata": {
  "anaconda-cloud": {},
  "kernelspec": {
   "display_name": "Python [conda env:py36]",
   "language": "python",
   "name": "conda-env-py36-py"
  },
  "language_info": {
   "codemirror_mode": {
    "name": "ipython",
    "version": 3
   },
   "file_extension": ".py",
   "mimetype": "text/x-python",
   "name": "python",
   "nbconvert_exporter": "python",
   "pygments_lexer": "ipython3",
   "version": "3.6.0"
  }
 },
 "nbformat": 4,
 "nbformat_minor": 1
}
